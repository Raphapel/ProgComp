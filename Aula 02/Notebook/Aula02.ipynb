{
  "nbformat": 4,
  "nbformat_minor": 0,
  "metadata": {
    "anaconda-cloud": {},
    "kernelspec": {
      "display_name": "Python 3",
      "language": "python",
      "name": "python3"
    },
    "language_info": {
      "codemirror_mode": {
        "name": "ipython",
        "version": 3
      },
      "file_extension": ".py",
      "mimetype": "text/x-python",
      "name": "python",
      "nbconvert_exporter": "python",
      "pygments_lexer": "ipython3",
      "version": "3.8.5"
    },
    "colab": {
      "name": "Aula02.ipynb",
      "provenance": [],
      "collapsed_sections": [],
      "toc_visible": true
    }
  },
  "cells": [
    {
      "cell_type": "markdown",
      "metadata": {
        "id": "wYGh8jNwBkC5"
      },
      "source": [
        "# <font size='14'>Programação de Computadores</font>\n",
        "\n",
        "<h1> Aula 03: Atribuição / Entrada e Saída</h1>\n",
        "\n",
        "> Pressione as teclas <b>SHIFT</b> e <b>ENTER</b> para executar o código em uma célula ou pressione o botão Play"
      ]
    },
    {
      "cell_type": "markdown",
      "metadata": {
        "id": "H_JLlWiBBkDE"
      },
      "source": [
        "# 1- Comandos de saída em Python"
      ]
    },
    {
      "cell_type": "code",
      "metadata": {
        "id": "8Cs0av5ZBkDG"
      },
      "source": [
        "#Primeiro exemplo\n",
        "print(\"Primeiro exemplo\")"
      ],
      "execution_count": null,
      "outputs": []
    },
    {
      "cell_type": "code",
      "metadata": {
        "id": "q5ZYZycLBkDH"
      },
      "source": [
        "# Olá mundo!\n",
        "print(\"Olá mundo!!!\")"
      ],
      "execution_count": null,
      "outputs": []
    },
    {
      "cell_type": "markdown",
      "metadata": {
        "id": "H3NzaxjzixZz"
      },
      "source": [
        "# 2- Como imprimir variáveis em Python"
      ]
    },
    {
      "cell_type": "markdown",
      "metadata": {
        "id": "YII3QvHkjKYp"
      },
      "source": [
        "> Há várias formas para se imprir variáveis em Python. Nos exemplos seguintes vamos adotar duas variáveis: **nome** e **nota**"
      ]
    },
    {
      "cell_type": "code",
      "metadata": {
        "id": "qr55jZ_EmzKx"
      },
      "source": [
        "nome = \"João\"\r\n",
        "nota = 8.9"
      ],
      "execution_count": 2,
      "outputs": []
    },
    {
      "cell_type": "markdown",
      "metadata": {
        "id": "NNYrglxNm3D8"
      },
      "source": [
        "> A forma mais simples é passar as variáveis como parâmetros:"
      ]
    },
    {
      "cell_type": "code",
      "metadata": {
        "colab": {
          "base_uri": "https://localhost:8080/"
        },
        "id": "P2wiuKKgm766",
        "outputId": "adfabc28-8d16-4bf6-b6a0-1701e9541b3a"
      },
      "source": [
        "print(\"A nota de \", nome, \" foi \", nota)"
      ],
      "execution_count": 3,
      "outputs": [
        {
          "output_type": "stream",
          "text": [
            "A nota de  João  foi  8.9\n"
          ],
          "name": "stdout"
        }
      ]
    },
    {
      "cell_type": "markdown",
      "metadata": {
        "id": "5dE85vXCnBCw"
      },
      "source": [
        "> A segunda forma que veremos é passando uma estrutura de dados como parâmetro. A marcação indicada por %s será substituída pelos valores das variáveis"
      ]
    },
    {
      "cell_type": "code",
      "metadata": {
        "colab": {
          "base_uri": "https://localhost:8080/"
        },
        "id": "CkV7i8-UnMeG",
        "outputId": "70d10215-a45f-4e76-8105-0209aca69c4a"
      },
      "source": [
        "print(\"A nota de %s foi %s\" % (nome, nota))"
      ],
      "execution_count": 5,
      "outputs": [
        {
          "output_type": "stream",
          "text": [
            "A nota de João foi 8.9\n"
          ],
          "name": "stdout"
        }
      ]
    },
    {
      "cell_type": "markdown",
      "metadata": {
        "id": "wVjJip-_nSKO"
      },
      "source": [
        "> Podemos utilizar também o **f-strings**. Vamos colocar o **f** como primeiro parâmetro e colocaremos as variáveis entre chaves (Ex. {nom}"
      ]
    },
    {
      "cell_type": "code",
      "metadata": {
        "colab": {
          "base_uri": "https://localhost:8080/"
        },
        "id": "BIMAgtsYnu9c",
        "outputId": "290ab467-b03f-4aa7-b399-c630e5c50f72"
      },
      "source": [
        "print(f\"A nota de {nome} foi {nota}\")"
      ],
      "execution_count": 6,
      "outputs": [
        {
          "output_type": "stream",
          "text": [
            "A nota de João foi 8.9\n"
          ],
          "name": "stdout"
        }
      ]
    },
    {
      "cell_type": "markdown",
      "metadata": {
        "id": "kQ7Egx3fBkDH"
      },
      "source": [
        "# 3- Conversão de string para inteiros"
      ]
    },
    {
      "cell_type": "code",
      "metadata": {
        "id": "ieM9J8krBkDI"
      },
      "source": [
        "# Entrada de dados input\n",
        "v1 = input(\"Digite um número: \")"
      ],
      "execution_count": null,
      "outputs": []
    },
    {
      "cell_type": "code",
      "metadata": {
        "id": "OlwE3Y1zBkDJ"
      },
      "source": [
        "# Ocorre um erro porque tentamos somar um valor que não é numérico\n",
        "print(v1 + 2)"
      ],
      "execution_count": null,
      "outputs": []
    },
    {
      "cell_type": "code",
      "metadata": {
        "id": "Mr9UT0TxBkDJ"
      },
      "source": [
        "# Faço a conversão para um valor inteiro (numérico)\n",
        "v2 = int(v1)"
      ],
      "execution_count": null,
      "outputs": []
    },
    {
      "cell_type": "code",
      "metadata": {
        "id": "TONnb629BkDK"
      },
      "source": [
        "# Agora funciona, pois, estamos somando dois números\n",
        "print(v2 + 2)"
      ],
      "execution_count": null,
      "outputs": []
    },
    {
      "cell_type": "markdown",
      "metadata": {
        "id": "uLygTF3tBkDK"
      },
      "source": [
        "# 4- Conversão de string para float"
      ]
    },
    {
      "cell_type": "code",
      "metadata": {
        "id": "qB3d5a3KBkDL"
      },
      "source": [
        "# Entrada de dados input\n",
        "v1 = input(\"Digite um número: \")"
      ],
      "execution_count": null,
      "outputs": []
    },
    {
      "cell_type": "code",
      "metadata": {
        "id": "ZJaN_owPBkDL"
      },
      "source": [
        "# Não ocorre erro, mas o resultado não é o esperado!!! \n",
        "print(v1 * 3)"
      ],
      "execution_count": null,
      "outputs": []
    },
    {
      "cell_type": "code",
      "metadata": {
        "id": "W1JFoiKmBkDM"
      },
      "source": [
        "# Faço a conversão para um valor inteiro (numérico)\n",
        "v2 = float(v1)"
      ],
      "execution_count": null,
      "outputs": []
    },
    {
      "cell_type": "code",
      "metadata": {
        "id": "65_iL49yBkDM"
      },
      "source": [
        "# Agora funciona, pois, estamos multiplicando dois números\n",
        "print(v2 * 3)"
      ],
      "execution_count": null,
      "outputs": []
    },
    {
      "cell_type": "markdown",
      "metadata": {
        "id": "v7WTnQtwBkDN"
      },
      "source": [
        "# 5- Avalia uma string como expressão"
      ]
    },
    {
      "cell_type": "code",
      "metadata": {
        "id": "6I734FyMBkDN"
      },
      "source": [
        "# Desta vez devemos digitar uma expressão. Ex: 2 + 3\n",
        "v1 = input(\"Digite uma expressão matemática: \")"
      ],
      "execution_count": null,
      "outputs": []
    },
    {
      "cell_type": "code",
      "metadata": {
        "id": "PrLN5ayFBkDN"
      },
      "source": [
        "# Imprime a expressão digitada!!!\n",
        "print(v1)"
      ],
      "execution_count": null,
      "outputs": []
    },
    {
      "cell_type": "code",
      "metadata": {
        "id": "M1JWzUGiBkDO"
      },
      "source": [
        "# Atribui o resultado da expressão à variável v2\n",
        "v2 = eval(v1)"
      ],
      "execution_count": null,
      "outputs": []
    },
    {
      "cell_type": "code",
      "metadata": {
        "id": "8dNhyDtiBkDO"
      },
      "source": [
        "# Imprime o valor armazenado em v2\n",
        "print(v2)"
      ],
      "execution_count": null,
      "outputs": []
    },
    {
      "cell_type": "markdown",
      "metadata": {
        "id": "SLgzCs31BkDP"
      },
      "source": [
        "# 6- Simplificando tudo"
      ]
    },
    {
      "cell_type": "code",
      "metadata": {
        "id": "WYPL_FvfBkDP"
      },
      "source": [
        "# Faz a entrada de dados e a conversão em número em um única linha\n",
        "a = int(input(\"Digite o primeiro número: \"))"
      ],
      "execution_count": null,
      "outputs": []
    },
    {
      "cell_type": "code",
      "metadata": {
        "id": "0xfZO9ZgBkDQ"
      },
      "source": [
        "# Faz a entrada de dados e a conversão em número em um única linha\n",
        "b = int(input(\"Digite o segundo número: \"))"
      ],
      "execution_count": null,
      "outputs": []
    },
    {
      "cell_type": "code",
      "metadata": {
        "id": "nPceXMp7BkDQ"
      },
      "source": [
        "# Imprime o resultado\n",
        "print(a+b)"
      ],
      "execution_count": null,
      "outputs": []
    },
    {
      "cell_type": "markdown",
      "metadata": {
        "id": "A3CJgSURBkDR"
      },
      "source": [
        "# 7- Operadores aritméticos e prioridade"
      ]
    },
    {
      "cell_type": "code",
      "metadata": {
        "id": "PoSBaRNHBkDR"
      },
      "source": [
        "# Soma de dois números inteiros\n",
        "2 + 3"
      ],
      "execution_count": null,
      "outputs": []
    },
    {
      "cell_type": "code",
      "metadata": {
        "id": "2qYYgipABkDR"
      },
      "source": [
        "# Subtração de dois números inteiros\n",
        "2 - 2"
      ],
      "execution_count": null,
      "outputs": []
    },
    {
      "cell_type": "code",
      "metadata": {
        "id": "6CYpLWffBkDS"
      },
      "source": [
        "# Multiplicação de dois números inteiros\n",
        "2 * 3"
      ],
      "execution_count": null,
      "outputs": []
    },
    {
      "cell_type": "code",
      "metadata": {
        "id": "jkEApTvqBkDS"
      },
      "source": [
        "# Divisão de dois números inteiros\n",
        "5 / 4"
      ],
      "execution_count": null,
      "outputs": []
    },
    {
      "cell_type": "code",
      "metadata": {
        "id": "okDQ-XkqBkDT"
      },
      "source": [
        "# Parte inteira de uma divisão de números inteiros\n",
        "5 // 4"
      ],
      "execution_count": null,
      "outputs": []
    },
    {
      "cell_type": "code",
      "metadata": {
        "id": "ba9zaBksBkDT"
      },
      "source": [
        "# Resto de uma divisão inteira de números inteiros\n",
        "10 % 3"
      ],
      "execution_count": null,
      "outputs": []
    },
    {
      "cell_type": "code",
      "metadata": {
        "id": "0Vz6ep14BkDT"
      },
      "source": [
        "# Exponenciação ou Potência\n",
        "3 ** 8  "
      ],
      "execution_count": null,
      "outputs": []
    },
    {
      "cell_type": "markdown",
      "metadata": {
        "id": "XZpXPxz9BkDU"
      },
      "source": [
        "## Professor Marco Antonio\n",
        "https://github.com/msanches/ProgComp"
      ]
    }
  ]
}